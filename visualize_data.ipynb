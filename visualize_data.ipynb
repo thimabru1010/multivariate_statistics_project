{
 "cells": [
  {
   "cell_type": "code",
   "execution_count": 41,
   "metadata": {},
   "outputs": [],
   "source": [
    "import numpy as np\n",
    "import os\n",
    "import pandas as pd\n",
    "import matplotlib.pyplot as plt\n",
    "from utils import load_train_data\n",
    "import matplotlib.patches as mpatches\n",
    "import matplotlib.colors as mcolors"
   ]
  },
  {
   "cell_type": "code",
   "execution_count": 86,
   "metadata": {},
   "outputs": [
    {
     "name": "stdout",
     "output_type": "stream",
     "text": [
      "Grid\n",
      "1    880456\n",
      "2    879374\n",
      "Name: count, dtype: int64\n",
      "(240826, 19)\n",
      "Dataset size: (12041, 19)\n",
      "(12041, 120, 120, 3) (12041, 120, 120)\n"
     ]
    }
   ],
   "source": [
    "# Load the data\n",
    "data_path = os.path.join('data', 'meta.csv')\n",
    "df = pd.read_csv(data_path)\n",
    "\n",
    "print(df['Grid'].value_counts())\n",
    "\n",
    "df = df[df.Grid == 1]\n",
    "df = df[df.Season == 'Summer']\n",
    "print(df.shape)\n",
    "# Get random sample from train_data\n",
    "df = df.sample(frac=5e-2)\n",
    "print('Dataset size:', df.shape)\n",
    "\n",
    "data, labels = load_train_data(df['Path'].values.tolist())\n",
    "# data = data.reshape(data.shape[0], -1)\n",
    "# labels = labels.reshape(labels.shape[0], -1)\n",
    "print(data.shape, labels.shape)"
   ]
  },
  {
   "cell_type": "code",
   "execution_count": 110,
   "metadata": {},
   "outputs": [
    {
     "name": "stdout",
     "output_type": "stream",
     "text": [
      "                                         Class\n",
      "ID                                            \n",
      "1                      Continuous urban fabric\n",
      "2                   Discontinuous urban fabric\n",
      "3               Industrial or commercial units\n",
      "4   Road and rail networks and associated land\n",
      "5                                   Port areas\n",
      "6                                     Airports\n",
      "7                     Mineral extraction sites\n",
      "8                                   Dump sites\n",
      "9                           Construction sites\n",
      "10                           Green urban areas\n",
      "11                Sport and leisure facilities\n",
      "12                   Non-irrigated arable land\n",
      "13                                   Vineyards\n",
      "14           Fruit trees and berry plantations\n",
      "15                                    Pastures\n",
      "16                         Broad-leaved forest\n",
      "17                           Coniferous forest\n",
      "18                                Mixed forest\n",
      "19                          Natural grasslands\n",
      "20                         Moors and heathland\n",
      "Index(['Class'], dtype='object')\n",
      "(33, 1)\n"
     ]
    }
   ],
   "source": [
    "# Load classes.csv\n",
    "# classes_path = os.path.join('classes.csv')\n",
    "classes_df = pd.read_csv('data/classes.csv', sep='\\t')\n",
    "classes_df = classes_df.set_index('ID')\n",
    "print(classes_df.head(20))\n",
    "print(classes_df.columns)\n",
    "print(classes_df.shape)"
   ]
  },
  {
   "cell_type": "code",
   "execution_count": 111,
   "metadata": {},
   "outputs": [
    {
     "name": "stdout",
     "output_type": "stream",
     "text": [
      "                                         Class\n",
      "ID                                            \n",
      "1                      Continuous urban fabric\n",
      "2                   Discontinuous urban fabric\n",
      "3               Industrial or commercial units\n",
      "4   Road and rail networks and associated land\n",
      "5                                   Port areas\n",
      "6                                     Airports\n",
      "7                     Mineral extraction sites\n",
      "8                                   Dump sites\n",
      "9                           Construction sites\n",
      "10                           Green urban areas\n",
      "11                Sport and leisure facilities\n",
      "12                   Non-irrigated arable land\n",
      "13                                   Vineyards\n",
      "14           Fruit trees and berry plantations\n",
      "15                                    Pastures\n",
      "16                         Broad-leaved forest\n",
      "17                           Coniferous forest\n",
      "18                                Mixed forest\n",
      "19                          Natural grasslands\n",
      "20                         Moors and heathland\n",
      "21                 Transitional woodland/shrub\n",
      "22                         Beaches/dunes/sands\n",
      "23                                   Bare rock\n",
      "24                    Sparsely vegetated areas\n",
      "25                              Inland marshes\n",
      "26                                   Peat bogs\n",
      "27                                Salt marshes\n",
      "28                            Intertidal flats\n",
      "29                               Water courses\n",
      "30                                Water bodies\n",
      "31                             Coastal lagoons\n",
      "32                                   Estuaries\n",
      "33                               Sea and ocean\n",
      "33\n",
      "                                         Class           Color\n",
      "ID                                                            \n",
      "1                      Continuous urban fabric             red\n",
      "2                   Discontinuous urban fabric            blue\n",
      "3               Industrial or commercial units           green\n",
      "4   Road and rail networks and associated land          purple\n",
      "5                                   Port areas          orange\n",
      "6                                     Airports           brown\n",
      "7                     Mineral extraction sites            pink\n",
      "8                                   Dump sites            gray\n",
      "9                           Construction sites           olive\n",
      "10                           Green urban areas            cyan\n",
      "11                Sport and leisure facilities           black\n",
      "12                   Non-irrigated arable land          yellow\n",
      "13                                   Vineyards         magenta\n",
      "14           Fruit trees and berry plantations            lime\n",
      "15                                    Pastures            teal\n",
      "16                         Broad-leaved forest          indigo\n",
      "17                           Coniferous forest          maroon\n",
      "18                                Mixed forest            navy\n",
      "19                          Natural grasslands            peru\n",
      "20                         Moors and heathland            gold\n",
      "21                 Transitional woodland/shrub      darkorange\n",
      "22                         Beaches/dunes/sands       darkgreen\n",
      "23                                   Bare rock         darkred\n",
      "24                    Sparsely vegetated areas        darkblue\n",
      "25                              Inland marshes     darkmagenta\n",
      "26                                   Peat bogs        darkcyan\n",
      "27                                Salt marshes        darkgray\n",
      "28                            Intertidal flats  darkolivegreen\n",
      "29                               Water courses            cyan\n",
      "30                                Water bodies   darkslategray\n",
      "31                             Coastal lagoons   darkgoldenrod\n",
      "32                                   Estuaries    darkseagreen\n",
      "33                               Sea and ocean   darkslateblue\n"
     ]
    }
   ],
   "source": [
    "# Define a color name available in matplotlib to each of 33 classes\n",
    "colors = ['red', 'blue', 'green', 'purple', 'orange', 'brown', 'pink', 'gray', 'olive', 'cyan',\n",
    " 'black', 'yellow', 'magenta', 'lime', 'teal', 'indigo', 'maroon', 'navy', 'peru', 'gold',\n",
    " 'darkorange', 'darkgreen', 'darkred', 'darkblue', 'darkmagenta', 'darkcyan', 'darkgray',\n",
    " 'darkolivegreen', 'cyan', 'darkslategray', 'darkgoldenrod', 'darkseagreen', 'darkslateblue']\n",
    "\n",
    "print(classes_df.head(35))\n",
    "print(len(colors))\n",
    "# print(np.unique(classes_df['Color']).shape)\n",
    "classes_df['Color'] = colors\n",
    "print(classes_df.head(35))"
   ]
  },
  {
   "cell_type": "code",
   "execution_count": 112,
   "metadata": {},
   "outputs": [
    {
     "name": "stdout",
     "output_type": "stream",
     "text": [
      "    ID                                       Class    Color  \\\n",
      "0    1                     Continuous urban fabric      red   \n",
      "1    2                  Discontinuous urban fabric     blue   \n",
      "2    3              Industrial or commercial units    green   \n",
      "3    4  Road and rail networks and associated land   purple   \n",
      "4    5                                  Port areas   orange   \n",
      "5    6                                    Airports    brown   \n",
      "6    7                    Mineral extraction sites     pink   \n",
      "7    8                                  Dump sites     gray   \n",
      "8    9                          Construction sites    olive   \n",
      "9   10                           Green urban areas     cyan   \n",
      "10  11                Sport and leisure facilities    black   \n",
      "11  12                   Non-irrigated arable land   yellow   \n",
      "12  13                                   Vineyards  magenta   \n",
      "13  14           Fruit trees and berry plantations     lime   \n",
      "14  15                                    Pastures     teal   \n",
      "15  16                         Broad-leaved forest   indigo   \n",
      "16  17                           Coniferous forest   maroon   \n",
      "17  18                                Mixed forest     navy   \n",
      "18  19                          Natural grasslands     peru   \n",
      "19  20                         Moors and heathland     gold   \n",
      "\n",
      "                            Group Group_Color  Group_ID  \n",
      "0                   Áreas Urbanas        gray         1  \n",
      "1                   Áreas Urbanas        gray         1  \n",
      "2                   Áreas Urbanas        gray         1  \n",
      "3                   Áreas Urbanas        gray         1  \n",
      "4                   Áreas Urbanas        gray         1  \n",
      "5                   Áreas Urbanas        gray         1  \n",
      "6    Áreas de Extração e Descarte      orange         5  \n",
      "7    Áreas de Extração e Descarte      orange         5  \n",
      "8                   Áreas Urbanas        gray         1  \n",
      "9                   Áreas Urbanas        gray         1  \n",
      "10                  Áreas Urbanas        gray         1  \n",
      "11                Áreas Agrícolas  lightgreen         2  \n",
      "12                Áreas Agrícolas  lightgreen         2  \n",
      "13                Áreas Agrícolas  lightgreen         2  \n",
      "14                Áreas Agrícolas  lightgreen         2  \n",
      "15  Florestas e Vegetação Natural       green         3  \n",
      "16  Florestas e Vegetação Natural       green         3  \n",
      "17  Florestas e Vegetação Natural       green         3  \n",
      "18  Florestas e Vegetação Natural       green         3  \n",
      "19  Florestas e Vegetação Natural       green         3  \n",
      "(6,)\n"
     ]
    }
   ],
   "source": [
    "classes_groups_df = pd.read_csv('data/class_groups.csv')\n",
    "classes_df = pd.merge(classes_df.reset_index(), classes_groups_df, on='Class')\n",
    "print(classes_df.head(20))\n",
    "print(np.unique(classes_df['Group']).shape)"
   ]
  },
  {
   "cell_type": "code",
   "execution_count": 113,
   "metadata": {},
   "outputs": [
    {
     "name": "stdout",
     "output_type": "stream",
     "text": [
      "    ID                                       Class           Color  \\\n",
      "0    1                     Continuous urban fabric             red   \n",
      "1    2                  Discontinuous urban fabric            blue   \n",
      "2    3              Industrial or commercial units           green   \n",
      "3    4  Road and rail networks and associated land          purple   \n",
      "4    5                                  Port areas          orange   \n",
      "5    6                                    Airports           brown   \n",
      "6    7                    Mineral extraction sites            pink   \n",
      "7    8                                  Dump sites            gray   \n",
      "8    9                          Construction sites           olive   \n",
      "9   10                           Green urban areas            cyan   \n",
      "10  11                Sport and leisure facilities           black   \n",
      "11  12                   Non-irrigated arable land          yellow   \n",
      "12  13                                   Vineyards         magenta   \n",
      "13  14           Fruit trees and berry plantations            lime   \n",
      "14  15                                    Pastures            teal   \n",
      "15  16                         Broad-leaved forest          indigo   \n",
      "16  17                           Coniferous forest          maroon   \n",
      "17  18                                Mixed forest            navy   \n",
      "18  19                          Natural grasslands            peru   \n",
      "19  20                         Moors and heathland            gold   \n",
      "20  21                 Transitional woodland/shrub      darkorange   \n",
      "21  23                                   Bare rock         darkred   \n",
      "22  24                    Sparsely vegetated areas        darkblue   \n",
      "23  25                              Inland marshes     darkmagenta   \n",
      "24  26                                   Peat bogs        darkcyan   \n",
      "25  27                                Salt marshes        darkgray   \n",
      "26  28                            Intertidal flats  darkolivegreen   \n",
      "27  29                               Water courses            cyan   \n",
      "28  30                                Water bodies   darkslategray   \n",
      "29  31                             Coastal lagoons   darkgoldenrod   \n",
      "30  32                                   Estuaries    darkseagreen   \n",
      "31  33                               Sea and ocean   darkslateblue   \n",
      "\n",
      "                                 Group Group_Color  Group_ID  \n",
      "0                        Áreas Urbanas        gray         1  \n",
      "1                        Áreas Urbanas        gray         1  \n",
      "2                        Áreas Urbanas        gray         1  \n",
      "3                        Áreas Urbanas        gray         1  \n",
      "4                        Áreas Urbanas        gray         1  \n",
      "5                        Áreas Urbanas        gray         1  \n",
      "6         Áreas de Extração e Descarte      orange         5  \n",
      "7         Áreas de Extração e Descarte      orange         5  \n",
      "8                        Áreas Urbanas        gray         1  \n",
      "9                        Áreas Urbanas        gray         1  \n",
      "10                       Áreas Urbanas        gray         1  \n",
      "11                     Áreas Agrícolas  lightgreen         2  \n",
      "12                     Áreas Agrícolas  lightgreen         2  \n",
      "13                     Áreas Agrícolas  lightgreen         2  \n",
      "14                     Áreas Agrícolas  lightgreen         2  \n",
      "15       Florestas e Vegetação Natural       green         3  \n",
      "16       Florestas e Vegetação Natural       green         3  \n",
      "17       Florestas e Vegetação Natural       green         3  \n",
      "18       Florestas e Vegetação Natural       green         3  \n",
      "19       Florestas e Vegetação Natural       green         3  \n",
      "20       Florestas e Vegetação Natural       green         3  \n",
      "21     Terrenos Naturais e Descobertos       brown         4  \n",
      "22     Terrenos Naturais e Descobertos       brown         4  \n",
      "23     Terrenos Naturais e Descobertos       brown         4  \n",
      "24     Terrenos Naturais e Descobertos       brown         4  \n",
      "25     Terrenos Naturais e Descobertos       brown         4  \n",
      "26     Terrenos Naturais e Descobertos       brown         4  \n",
      "27  Corpos d'Água e Áreas Relacionadas        blue         6  \n",
      "28  Corpos d'Água e Áreas Relacionadas        blue         6  \n",
      "29  Corpos d'Água e Áreas Relacionadas        blue         6  \n",
      "30  Corpos d'Água e Áreas Relacionadas        blue         6  \n",
      "31  Corpos d'Água e Áreas Relacionadas        blue         6  \n"
     ]
    }
   ],
   "source": [
    "print(classes_df.head(35))"
   ]
  },
  {
   "cell_type": "code",
   "execution_count": null,
   "metadata": {},
   "outputs": [],
   "source": [
    "# Group labels\n",
    "group_labels = classes_df['Group'].values\n",
    "print(group_labels.shape)\n",
    "print(np.unique(group_labels).shape)\n"
   ]
  },
  {
   "cell_type": "code",
   "execution_count": 6,
   "metadata": {},
   "outputs": [],
   "source": [
    "def normalize_to_255(image):\n",
    "    normalized = (image - np.min(image)) / (np.max(image) - np.min(image))\n",
    "    return (normalized * 255).astype(np.uint8)"
   ]
  },
  {
   "cell_type": "code",
   "execution_count": null,
   "metadata": {},
   "outputs": [
    {
     "name": "stdout",
     "output_type": "stream",
     "text": [
      "12 in labels\n"
     ]
    },
    {
     "ename": "AttributeError",
     "evalue": "'Series' object has no attribute 'remove_duplicates'",
     "output_type": "error",
     "traceback": [
      "\u001b[0;31m---------------------------------------------------------------------------\u001b[0m",
      "\u001b[0;31mAttributeError\u001b[0m                            Traceback (most recent call last)",
      "\u001b[0;32m/tmp/ipykernel_2309290/2496615559.py\u001b[0m in \u001b[0;36m?\u001b[0;34m()\u001b[0m\n\u001b[1;32m     13\u001b[0m \u001b[0;34m\u001b[0m\u001b[0m\n\u001b[1;32m     14\u001b[0m \u001b[0mfig\u001b[0m\u001b[0;34m,\u001b[0m \u001b[0maxs\u001b[0m \u001b[0;34m=\u001b[0m \u001b[0mplt\u001b[0m\u001b[0;34m.\u001b[0m\u001b[0msubplots\u001b[0m\u001b[0;34m(\u001b[0m\u001b[0msample_size\u001b[0m\u001b[0;34m,\u001b[0m \u001b[0;36m2\u001b[0m\u001b[0;34m,\u001b[0m \u001b[0mfigsize\u001b[0m\u001b[0;34m=\u001b[0m\u001b[0;34m(\u001b[0m\u001b[0;36m10\u001b[0m\u001b[0;34m,\u001b[0m \u001b[0;36m10\u001b[0m\u001b[0;34m)\u001b[0m\u001b[0;34m)\u001b[0m\u001b[0;34m\u001b[0m\u001b[0;34m\u001b[0m\u001b[0m\n\u001b[1;32m     15\u001b[0m \u001b[0;31m# Convert class colors to a colormap\u001b[0m\u001b[0;34m\u001b[0m\u001b[0;34m\u001b[0m\u001b[0m\n\u001b[1;32m     16\u001b[0m \u001b[0;31m# colors = set(classes_df['Color_Group'].values)\u001b[0m\u001b[0;34m\u001b[0m\u001b[0;34m\u001b[0m\u001b[0m\n\u001b[0;32m---> 17\u001b[0;31m \u001b[0mcolors\u001b[0m \u001b[0;34m=\u001b[0m \u001b[0mclasses_df\u001b[0m\u001b[0;34m[\u001b[0m\u001b[0;34m'Color_Group'\u001b[0m\u001b[0;34m]\u001b[0m\u001b[0;34m.\u001b[0m\u001b[0mremove_duplicates\u001b[0m\u001b[0;34m(\u001b[0m\u001b[0;34m)\u001b[0m\u001b[0;34m.\u001b[0m\u001b[0mvalues\u001b[0m\u001b[0;34m\u001b[0m\u001b[0;34m\u001b[0m\u001b[0m\n\u001b[0m\u001b[1;32m     18\u001b[0m \u001b[0mprint\u001b[0m\u001b[0;34m(\u001b[0m\u001b[0mcolors\u001b[0m\u001b[0;34m)\u001b[0m\u001b[0;34m\u001b[0m\u001b[0;34m\u001b[0m\u001b[0m\n\u001b[1;32m     19\u001b[0m \u001b[0mcmap\u001b[0m \u001b[0;34m=\u001b[0m \u001b[0mmcolors\u001b[0m\u001b[0;34m.\u001b[0m\u001b[0mListedColormap\u001b[0m\u001b[0;34m(\u001b[0m\u001b[0mcolors\u001b[0m\u001b[0;34m)\u001b[0m\u001b[0;34m\u001b[0m\u001b[0;34m\u001b[0m\u001b[0m\n\u001b[1;32m     20\u001b[0m \u001b[0mbounds\u001b[0m \u001b[0;34m=\u001b[0m \u001b[0mnp\u001b[0m\u001b[0;34m.\u001b[0m\u001b[0marange\u001b[0m\u001b[0;34m(\u001b[0m\u001b[0mlen\u001b[0m\u001b[0;34m(\u001b[0m\u001b[0mcolors\u001b[0m\u001b[0;34m)\u001b[0m \u001b[0;34m+\u001b[0m \u001b[0;36m1\u001b[0m\u001b[0;34m)\u001b[0m\u001b[0;34m\u001b[0m\u001b[0;34m\u001b[0m\u001b[0m\n",
      "\u001b[0;32m~/python-envs/base/lib/python3.10/site-packages/pandas/core/generic.py\u001b[0m in \u001b[0;36m?\u001b[0;34m(self, name)\u001b[0m\n\u001b[1;32m   6289\u001b[0m             \u001b[0;32mand\u001b[0m \u001b[0mname\u001b[0m \u001b[0;32mnot\u001b[0m \u001b[0;32min\u001b[0m \u001b[0mself\u001b[0m\u001b[0;34m.\u001b[0m\u001b[0m_accessors\u001b[0m\u001b[0;34m\u001b[0m\u001b[0;34m\u001b[0m\u001b[0m\n\u001b[1;32m   6290\u001b[0m             \u001b[0;32mand\u001b[0m \u001b[0mself\u001b[0m\u001b[0;34m.\u001b[0m\u001b[0m_info_axis\u001b[0m\u001b[0;34m.\u001b[0m\u001b[0m_can_hold_identifiers_and_holds_name\u001b[0m\u001b[0;34m(\u001b[0m\u001b[0mname\u001b[0m\u001b[0;34m)\u001b[0m\u001b[0;34m\u001b[0m\u001b[0;34m\u001b[0m\u001b[0m\n\u001b[1;32m   6291\u001b[0m         ):\n\u001b[1;32m   6292\u001b[0m             \u001b[0;32mreturn\u001b[0m \u001b[0mself\u001b[0m\u001b[0;34m[\u001b[0m\u001b[0mname\u001b[0m\u001b[0;34m]\u001b[0m\u001b[0;34m\u001b[0m\u001b[0;34m\u001b[0m\u001b[0m\n\u001b[0;32m-> 6293\u001b[0;31m         \u001b[0;32mreturn\u001b[0m \u001b[0mobject\u001b[0m\u001b[0;34m.\u001b[0m\u001b[0m__getattribute__\u001b[0m\u001b[0;34m(\u001b[0m\u001b[0mself\u001b[0m\u001b[0;34m,\u001b[0m \u001b[0mname\u001b[0m\u001b[0;34m)\u001b[0m\u001b[0;34m\u001b[0m\u001b[0;34m\u001b[0m\u001b[0m\n\u001b[0m",
      "\u001b[0;31mAttributeError\u001b[0m: 'Series' object has no attribute 'remove_duplicates'"
     ]
    },
    {
     "data": {
      "image/png": "[encoded data removed]",
      "text/plain": [
       "<Figure size 1000x1000 with 6 Axes>"
      ]
     },
     "metadata": {},
     "output_type": "display_data"
    }
   ],
   "source": [
    "# Plot 3 rgb image and segmentation labels side by side\n",
    "sample_size = 3\n",
    "# Obtenha índices aleatórios\n",
    "indices = np.random.choice(data.shape[0], sample_size, replace=False)\n",
    "# Extraia a amostra dos arrays\n",
    "sampled_data = data[indices]\n",
    "sampled_labels = labels[indices]\n",
    "\n",
    "if 12 in list(sampled_labels.reshape(-1)):\n",
    "    print('12 in labels')\n",
    "else:\n",
    "    print('12 not in labels')\n",
    "\n",
    "fig, axs = plt.subplots(sample_size, 2, figsize=(10, 10))\n",
    "# Convert class colors to a colormap\n",
    "# colors = set(classes_df['Color_Group'].values)\n",
    "colors = classes_df['Color_Group']\n",
    "print(colors)\n",
    "cmap = mcolors.ListedColormap(colors)\n",
    "bounds = np.arange(len(colors) + 1)\n",
    "norm = mcolors.BoundaryNorm(bounds, cmap.N)\n",
    "\n",
    "\n",
    "for i in range(sample_size):\n",
    "    # Index goes from 0 - 32 and labels go from 1 - 33\n",
    "    present_indexes = np.unique(sampled_labels[i])\n",
    "    print(present_indexes.shape)\n",
    "    # present_labels = classes_df['Group', 'ID'].isin(present_indexes).values\n",
    "    present_labels = classes_df[present_indexes].values\n",
    "    print(f'Image: {i} - Present labels: {present_labels} \\n')\n",
    "    \n",
    "    axs[i, 0].imshow(normalize_to_255(sampled_data[i]))\n",
    "    axs[i, 0].set_title('RGB Image')\n",
    "    \n",
    "    axs[i, 1].imshow(sampled_labels[i], cmap=cmap, norm=norm)\n",
    "    axs[i, 1].set_title(f\"Segmentation Mask {i+1}\")\n",
    "\n",
    "group_classes = list(set(classes_df['Group'].values))\n",
    "# legend_elements = [plt.Line2D([0], [0], color=cmap(i), lw=4, label=f'{classes_df.loc[i, 'Class']}') for i in range(len(colors))]\n",
    "# legend_elements = [plt.Line2D([0], [0], color=cmap(i), lw=4, label=f\"{classes_df.loc[i+1, 'Group']}\") for i in range(len(colors))]\n",
    "legend_elements = [plt.Line2D([0], [0], color=cmap(i), lw=4, label=f\"{group_classes[i]}\") for i in range(len(colors))]\n",
    "fig.legend(handles=legend_elements, loc='lower center', bbox_to_anchor=(0.5, -0.05), ncol=8, fontsize='small')\n",
    "plt.show()"
   ]
  },
  {
   "cell_type": "code",
   "execution_count": null,
   "metadata": {},
   "outputs": [],
   "source": []
  }
 ],
 "metadata": {
  "kernelspec": {
   "display_name": "base",
   "language": "python",
   "name": "python3"
  },
  "language_info": {
   "codemirror_mode": {
    "name": "ipython",
    "version": 3
   },
   "file_extension": ".py",
   "mimetype": "text/x-python",
   "name": "python",
   "nbconvert_exporter": "python",
   "pygments_lexer": "ipython3",
   "version": "3.10.12"
  }
 },
 "nbformat": 4,
 "nbformat_minor": 2
}
